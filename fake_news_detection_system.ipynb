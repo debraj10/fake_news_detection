{
  "metadata": {
    "kernelspec": {
      "language": "python",
      "display_name": "Python 3",
      "name": "python3"
    },
    "language_info": {
      "name": "python",
      "version": "3.7.12",
      "mimetype": "text/x-python",
      "codemirror_mode": {
        "name": "ipython",
        "version": 3
      },
      "pygments_lexer": "ipython3",
      "nbconvert_exporter": "python",
      "file_extension": ".py"
    },
    "colab": {
      "provenance": [],
      "include_colab_link": true
    }
  },
  "nbformat_minor": 0,
  "nbformat": 4,
  "cells": [
    {
      "cell_type": "markdown",
      "metadata": {
        "id": "view-in-github",
        "colab_type": "text"
      },
      "source": [
        "<a href=\"https://colab.research.google.com/github/debraj10/fake_news_detection/blob/main/fake_news_detection_system.ipynb\" target=\"_parent\"><img src=\"https://colab.research.google.com/assets/colab-badge.svg\" alt=\"Open In Colab\"/></a>"
      ]
    },
    {
      "cell_type": "code",
      "source": [
        "# This Python 3 environment comes with many helpful analytics libraries installed\n",
        "# It is defined by the kaggle/python Docker image: https://github.com/kaggle/docker-python\n",
        "# For example, here's several helpful packages to load\n",
        "\n",
        "import numpy as np # linear algebra\n",
        "import pandas as pd # data processing, CSV file I/O (e.g. pd.read_csv)\n",
        "\n",
        "# Input data files are available in the read-only \"../input/\" directory\n",
        "# For example, running this (by clicking run or pressing Shift+Enter) will list all files under the input directory\n",
        "\n",
        "import os\n",
        "for dirname, _, filenames in os.walk('/kaggle/input'):\n",
        "    for filename in filenames:\n",
        "        print(os.path.join(dirname, filename))\n",
        "\n",
        "# You can write up to 20GB to the current directory (/kaggle/working/) that gets preserved as output when you create a version using \"Save & Run All\"\n",
        "# You can also write temporary files to /kaggle/temp/, but they won't be saved outside of the current session"
      ],
      "metadata": {
        "_uuid": "8f2839f25d086af736a60e9eeb907d3b93b6e0e5",
        "_cell_guid": "b1076dfc-b9ad-4769-8c92-a6c4dae69d19",
        "execution": {
          "iopub.status.busy": "2023-04-27T20:22:48.683115Z",
          "iopub.execute_input": "2023-04-27T20:22:48.684353Z",
          "iopub.status.idle": "2023-04-27T20:22:48.700276Z",
          "shell.execute_reply.started": "2023-04-27T20:22:48.684305Z",
          "shell.execute_reply": "2023-04-27T20:22:48.698978Z"
        },
        "trusted": true,
        "id": "98OGJrNVNfAA"
      },
      "execution_count": null,
      "outputs": []
    },
    {
      "cell_type": "code",
      "source": [
        "import pandas as pd\n",
        "import numpy as np\n",
        "import seaborn as sns\n",
        "import matplotlib.pyplot as plt\n",
        "from sklearn.model_selection import train_test_split\n",
        "from sklearn.metrics import accuracy_score\n",
        "from sklearn.metrics import classification_report\n",
        "import re\n",
        "import string"
      ],
      "metadata": {
        "execution": {
          "iopub.status.busy": "2023-04-27T20:22:48.703277Z",
          "iopub.execute_input": "2023-04-27T20:22:48.704191Z",
          "iopub.status.idle": "2023-04-27T20:22:48.710481Z",
          "shell.execute_reply.started": "2023-04-27T20:22:48.704136Z",
          "shell.execute_reply": "2023-04-27T20:22:48.709384Z"
        },
        "trusted": true,
        "id": "D6JQJc20NfAC"
      },
      "execution_count": null,
      "outputs": []
    },
    {
      "cell_type": "markdown",
      "source": [
        "**Inserting fake and real dataset**"
      ],
      "metadata": {
        "id": "M9aQIrPSNfAD"
      }
    },
    {
      "cell_type": "code",
      "source": [
        "df_fake = pd.read_csv(\"/kaggle/input/fake-and-real-news-dataset/Fake.csv\")\n",
        "df_true = pd.read_csv(\"/kaggle/input/fake-and-real-news-dataset/True.csv\")"
      ],
      "metadata": {
        "execution": {
          "iopub.status.busy": "2023-04-27T20:22:48.712244Z",
          "iopub.execute_input": "2023-04-27T20:22:48.713142Z",
          "iopub.status.idle": "2023-04-27T20:22:50.085777Z",
          "shell.execute_reply.started": "2023-04-27T20:22:48.713101Z",
          "shell.execute_reply": "2023-04-27T20:22:50.084526Z"
        },
        "trusted": true,
        "colab": {
          "base_uri": "https://localhost:8080/",
          "height": 345
        },
        "id": "pIdxVqXTNfAE",
        "outputId": "a3ecf5b5-fb06-4fb3-b8d4-2917f060dee4"
      },
      "execution_count": null,
      "outputs": [
        {
          "output_type": "error",
          "ename": "FileNotFoundError",
          "evalue": "ignored",
          "traceback": [
            "\u001b[0;31m---------------------------------------------------------------------------\u001b[0m",
            "\u001b[0;31mFileNotFoundError\u001b[0m                         Traceback (most recent call last)",
            "\u001b[0;32m<ipython-input-10-3cce092e26e8>\u001b[0m in \u001b[0;36m<cell line: 1>\u001b[0;34m()\u001b[0m\n\u001b[0;32m----> 1\u001b[0;31m \u001b[0mdf_fake\u001b[0m \u001b[0;34m=\u001b[0m \u001b[0mpd\u001b[0m\u001b[0;34m.\u001b[0m\u001b[0mread_csv\u001b[0m\u001b[0;34m(\u001b[0m\u001b[0;34m\"/kaggle/input/fake-and-real-news-dataset/Fake.csv\"\u001b[0m\u001b[0;34m)\u001b[0m\u001b[0;34m\u001b[0m\u001b[0;34m\u001b[0m\u001b[0m\n\u001b[0m\u001b[1;32m      2\u001b[0m \u001b[0mdf_true\u001b[0m \u001b[0;34m=\u001b[0m \u001b[0mpd\u001b[0m\u001b[0;34m.\u001b[0m\u001b[0mread_csv\u001b[0m\u001b[0;34m(\u001b[0m\u001b[0;34m\"/kaggle/input/fake-and-real-news-dataset/True.csv\"\u001b[0m\u001b[0;34m)\u001b[0m\u001b[0;34m\u001b[0m\u001b[0;34m\u001b[0m\u001b[0m\n",
            "\u001b[0;32m/usr/local/lib/python3.10/dist-packages/pandas/util/_decorators.py\u001b[0m in \u001b[0;36mwrapper\u001b[0;34m(*args, **kwargs)\u001b[0m\n\u001b[1;32m    209\u001b[0m                 \u001b[0;32melse\u001b[0m\u001b[0;34m:\u001b[0m\u001b[0;34m\u001b[0m\u001b[0;34m\u001b[0m\u001b[0m\n\u001b[1;32m    210\u001b[0m                     \u001b[0mkwargs\u001b[0m\u001b[0;34m[\u001b[0m\u001b[0mnew_arg_name\u001b[0m\u001b[0;34m]\u001b[0m \u001b[0;34m=\u001b[0m \u001b[0mnew_arg_value\u001b[0m\u001b[0;34m\u001b[0m\u001b[0;34m\u001b[0m\u001b[0m\n\u001b[0;32m--> 211\u001b[0;31m             \u001b[0;32mreturn\u001b[0m \u001b[0mfunc\u001b[0m\u001b[0;34m(\u001b[0m\u001b[0;34m*\u001b[0m\u001b[0margs\u001b[0m\u001b[0;34m,\u001b[0m \u001b[0;34m**\u001b[0m\u001b[0mkwargs\u001b[0m\u001b[0;34m)\u001b[0m\u001b[0;34m\u001b[0m\u001b[0;34m\u001b[0m\u001b[0m\n\u001b[0m\u001b[1;32m    212\u001b[0m \u001b[0;34m\u001b[0m\u001b[0m\n\u001b[1;32m    213\u001b[0m         \u001b[0;32mreturn\u001b[0m \u001b[0mcast\u001b[0m\u001b[0;34m(\u001b[0m\u001b[0mF\u001b[0m\u001b[0;34m,\u001b[0m \u001b[0mwrapper\u001b[0m\u001b[0;34m)\u001b[0m\u001b[0;34m\u001b[0m\u001b[0;34m\u001b[0m\u001b[0m\n",
            "\u001b[0;32m/usr/local/lib/python3.10/dist-packages/pandas/util/_decorators.py\u001b[0m in \u001b[0;36mwrapper\u001b[0;34m(*args, **kwargs)\u001b[0m\n\u001b[1;32m    329\u001b[0m                     \u001b[0mstacklevel\u001b[0m\u001b[0;34m=\u001b[0m\u001b[0mfind_stack_level\u001b[0m\u001b[0;34m(\u001b[0m\u001b[0;34m)\u001b[0m\u001b[0;34m,\u001b[0m\u001b[0;34m\u001b[0m\u001b[0;34m\u001b[0m\u001b[0m\n\u001b[1;32m    330\u001b[0m                 )\n\u001b[0;32m--> 331\u001b[0;31m             \u001b[0;32mreturn\u001b[0m \u001b[0mfunc\u001b[0m\u001b[0;34m(\u001b[0m\u001b[0;34m*\u001b[0m\u001b[0margs\u001b[0m\u001b[0;34m,\u001b[0m \u001b[0;34m**\u001b[0m\u001b[0mkwargs\u001b[0m\u001b[0;34m)\u001b[0m\u001b[0;34m\u001b[0m\u001b[0;34m\u001b[0m\u001b[0m\n\u001b[0m\u001b[1;32m    332\u001b[0m \u001b[0;34m\u001b[0m\u001b[0m\n\u001b[1;32m    333\u001b[0m         \u001b[0;31m# error: \"Callable[[VarArg(Any), KwArg(Any)], Any]\" has no\u001b[0m\u001b[0;34m\u001b[0m\u001b[0;34m\u001b[0m\u001b[0m\n",
            "\u001b[0;32m/usr/local/lib/python3.10/dist-packages/pandas/io/parsers/readers.py\u001b[0m in \u001b[0;36mread_csv\u001b[0;34m(filepath_or_buffer, sep, delimiter, header, names, index_col, usecols, squeeze, prefix, mangle_dupe_cols, dtype, engine, converters, true_values, false_values, skipinitialspace, skiprows, skipfooter, nrows, na_values, keep_default_na, na_filter, verbose, skip_blank_lines, parse_dates, infer_datetime_format, keep_date_col, date_parser, dayfirst, cache_dates, iterator, chunksize, compression, thousands, decimal, lineterminator, quotechar, quoting, doublequote, escapechar, comment, encoding, encoding_errors, dialect, error_bad_lines, warn_bad_lines, on_bad_lines, delim_whitespace, low_memory, memory_map, float_precision, storage_options)\u001b[0m\n\u001b[1;32m    948\u001b[0m     \u001b[0mkwds\u001b[0m\u001b[0;34m.\u001b[0m\u001b[0mupdate\u001b[0m\u001b[0;34m(\u001b[0m\u001b[0mkwds_defaults\u001b[0m\u001b[0;34m)\u001b[0m\u001b[0;34m\u001b[0m\u001b[0;34m\u001b[0m\u001b[0m\n\u001b[1;32m    949\u001b[0m \u001b[0;34m\u001b[0m\u001b[0m\n\u001b[0;32m--> 950\u001b[0;31m     \u001b[0;32mreturn\u001b[0m \u001b[0m_read\u001b[0m\u001b[0;34m(\u001b[0m\u001b[0mfilepath_or_buffer\u001b[0m\u001b[0;34m,\u001b[0m \u001b[0mkwds\u001b[0m\u001b[0;34m)\u001b[0m\u001b[0;34m\u001b[0m\u001b[0;34m\u001b[0m\u001b[0m\n\u001b[0m\u001b[1;32m    951\u001b[0m \u001b[0;34m\u001b[0m\u001b[0m\n\u001b[1;32m    952\u001b[0m \u001b[0;34m\u001b[0m\u001b[0m\n",
            "\u001b[0;32m/usr/local/lib/python3.10/dist-packages/pandas/io/parsers/readers.py\u001b[0m in \u001b[0;36m_read\u001b[0;34m(filepath_or_buffer, kwds)\u001b[0m\n\u001b[1;32m    603\u001b[0m \u001b[0;34m\u001b[0m\u001b[0m\n\u001b[1;32m    604\u001b[0m     \u001b[0;31m# Create the parser.\u001b[0m\u001b[0;34m\u001b[0m\u001b[0;34m\u001b[0m\u001b[0m\n\u001b[0;32m--> 605\u001b[0;31m     \u001b[0mparser\u001b[0m \u001b[0;34m=\u001b[0m \u001b[0mTextFileReader\u001b[0m\u001b[0;34m(\u001b[0m\u001b[0mfilepath_or_buffer\u001b[0m\u001b[0;34m,\u001b[0m \u001b[0;34m**\u001b[0m\u001b[0mkwds\u001b[0m\u001b[0;34m)\u001b[0m\u001b[0;34m\u001b[0m\u001b[0;34m\u001b[0m\u001b[0m\n\u001b[0m\u001b[1;32m    606\u001b[0m \u001b[0;34m\u001b[0m\u001b[0m\n\u001b[1;32m    607\u001b[0m     \u001b[0;32mif\u001b[0m \u001b[0mchunksize\u001b[0m \u001b[0;32mor\u001b[0m \u001b[0miterator\u001b[0m\u001b[0;34m:\u001b[0m\u001b[0;34m\u001b[0m\u001b[0;34m\u001b[0m\u001b[0m\n",
            "\u001b[0;32m/usr/local/lib/python3.10/dist-packages/pandas/io/parsers/readers.py\u001b[0m in \u001b[0;36m__init__\u001b[0;34m(self, f, engine, **kwds)\u001b[0m\n\u001b[1;32m   1440\u001b[0m \u001b[0;34m\u001b[0m\u001b[0m\n\u001b[1;32m   1441\u001b[0m         \u001b[0mself\u001b[0m\u001b[0;34m.\u001b[0m\u001b[0mhandles\u001b[0m\u001b[0;34m:\u001b[0m \u001b[0mIOHandles\u001b[0m \u001b[0;34m|\u001b[0m \u001b[0;32mNone\u001b[0m \u001b[0;34m=\u001b[0m \u001b[0;32mNone\u001b[0m\u001b[0;34m\u001b[0m\u001b[0;34m\u001b[0m\u001b[0m\n\u001b[0;32m-> 1442\u001b[0;31m         \u001b[0mself\u001b[0m\u001b[0;34m.\u001b[0m\u001b[0m_engine\u001b[0m \u001b[0;34m=\u001b[0m \u001b[0mself\u001b[0m\u001b[0;34m.\u001b[0m\u001b[0m_make_engine\u001b[0m\u001b[0;34m(\u001b[0m\u001b[0mf\u001b[0m\u001b[0;34m,\u001b[0m \u001b[0mself\u001b[0m\u001b[0;34m.\u001b[0m\u001b[0mengine\u001b[0m\u001b[0;34m)\u001b[0m\u001b[0;34m\u001b[0m\u001b[0;34m\u001b[0m\u001b[0m\n\u001b[0m\u001b[1;32m   1443\u001b[0m \u001b[0;34m\u001b[0m\u001b[0m\n\u001b[1;32m   1444\u001b[0m     \u001b[0;32mdef\u001b[0m \u001b[0mclose\u001b[0m\u001b[0;34m(\u001b[0m\u001b[0mself\u001b[0m\u001b[0;34m)\u001b[0m \u001b[0;34m->\u001b[0m \u001b[0;32mNone\u001b[0m\u001b[0;34m:\u001b[0m\u001b[0;34m\u001b[0m\u001b[0;34m\u001b[0m\u001b[0m\n",
            "\u001b[0;32m/usr/local/lib/python3.10/dist-packages/pandas/io/parsers/readers.py\u001b[0m in \u001b[0;36m_make_engine\u001b[0;34m(self, f, engine)\u001b[0m\n\u001b[1;32m   1733\u001b[0m                 \u001b[0;32mif\u001b[0m \u001b[0;34m\"b\"\u001b[0m \u001b[0;32mnot\u001b[0m \u001b[0;32min\u001b[0m \u001b[0mmode\u001b[0m\u001b[0;34m:\u001b[0m\u001b[0;34m\u001b[0m\u001b[0;34m\u001b[0m\u001b[0m\n\u001b[1;32m   1734\u001b[0m                     \u001b[0mmode\u001b[0m \u001b[0;34m+=\u001b[0m \u001b[0;34m\"b\"\u001b[0m\u001b[0;34m\u001b[0m\u001b[0;34m\u001b[0m\u001b[0m\n\u001b[0;32m-> 1735\u001b[0;31m             self.handles = get_handle(\n\u001b[0m\u001b[1;32m   1736\u001b[0m                 \u001b[0mf\u001b[0m\u001b[0;34m,\u001b[0m\u001b[0;34m\u001b[0m\u001b[0;34m\u001b[0m\u001b[0m\n\u001b[1;32m   1737\u001b[0m                 \u001b[0mmode\u001b[0m\u001b[0;34m,\u001b[0m\u001b[0;34m\u001b[0m\u001b[0;34m\u001b[0m\u001b[0m\n",
            "\u001b[0;32m/usr/local/lib/python3.10/dist-packages/pandas/io/common.py\u001b[0m in \u001b[0;36mget_handle\u001b[0;34m(path_or_buf, mode, encoding, compression, memory_map, is_text, errors, storage_options)\u001b[0m\n\u001b[1;32m    854\u001b[0m         \u001b[0;32mif\u001b[0m \u001b[0mioargs\u001b[0m\u001b[0;34m.\u001b[0m\u001b[0mencoding\u001b[0m \u001b[0;32mand\u001b[0m \u001b[0;34m\"b\"\u001b[0m \u001b[0;32mnot\u001b[0m \u001b[0;32min\u001b[0m \u001b[0mioargs\u001b[0m\u001b[0;34m.\u001b[0m\u001b[0mmode\u001b[0m\u001b[0;34m:\u001b[0m\u001b[0;34m\u001b[0m\u001b[0;34m\u001b[0m\u001b[0m\n\u001b[1;32m    855\u001b[0m             \u001b[0;31m# Encoding\u001b[0m\u001b[0;34m\u001b[0m\u001b[0;34m\u001b[0m\u001b[0m\n\u001b[0;32m--> 856\u001b[0;31m             handle = open(\n\u001b[0m\u001b[1;32m    857\u001b[0m                 \u001b[0mhandle\u001b[0m\u001b[0;34m,\u001b[0m\u001b[0;34m\u001b[0m\u001b[0;34m\u001b[0m\u001b[0m\n\u001b[1;32m    858\u001b[0m                 \u001b[0mioargs\u001b[0m\u001b[0;34m.\u001b[0m\u001b[0mmode\u001b[0m\u001b[0;34m,\u001b[0m\u001b[0;34m\u001b[0m\u001b[0;34m\u001b[0m\u001b[0m\n",
            "\u001b[0;31mFileNotFoundError\u001b[0m: [Errno 2] No such file or directory: '/kaggle/input/fake-and-real-news-dataset/Fake.csv'"
          ]
        }
      ]
    },
    {
      "cell_type": "code",
      "source": [
        "df_fake.head()"
      ],
      "metadata": {
        "execution": {
          "iopub.status.busy": "2023-04-27T20:22:50.087218Z",
          "iopub.execute_input": "2023-04-27T20:22:50.087593Z",
          "iopub.status.idle": "2023-04-27T20:22:50.101708Z",
          "shell.execute_reply.started": "2023-04-27T20:22:50.087557Z",
          "shell.execute_reply": "2023-04-27T20:22:50.100381Z"
        },
        "trusted": true,
        "id": "3tjHsJNdNfAF"
      },
      "execution_count": null,
      "outputs": []
    },
    {
      "cell_type": "code",
      "source": [
        "df_true.head()"
      ],
      "metadata": {
        "execution": {
          "iopub.status.busy": "2023-04-27T20:22:50.105590Z",
          "iopub.execute_input": "2023-04-27T20:22:50.106684Z",
          "iopub.status.idle": "2023-04-27T20:22:50.124187Z",
          "shell.execute_reply.started": "2023-04-27T20:22:50.106623Z",
          "shell.execute_reply": "2023-04-27T20:22:50.122769Z"
        },
        "trusted": true,
        "id": "cWFpk6VzNfAF"
      },
      "execution_count": null,
      "outputs": []
    },
    {
      "cell_type": "code",
      "source": [
        "df_fake.shape, df_true.shape"
      ],
      "metadata": {
        "execution": {
          "iopub.status.busy": "2023-04-27T20:22:50.126506Z",
          "iopub.execute_input": "2023-04-27T20:22:50.127195Z",
          "iopub.status.idle": "2023-04-27T20:22:50.141757Z",
          "shell.execute_reply.started": "2023-04-27T20:22:50.127140Z",
          "shell.execute_reply": "2023-04-27T20:22:50.140511Z"
        },
        "trusted": true,
        "id": "HS7qe72qNfAG"
      },
      "execution_count": null,
      "outputs": []
    },
    {
      "cell_type": "code",
      "source": [
        "df_fake[\"class\"]=0\n",
        "df_true[\"class\"]=1"
      ],
      "metadata": {
        "execution": {
          "iopub.status.busy": "2023-04-27T20:22:50.143364Z",
          "iopub.execute_input": "2023-04-27T20:22:50.144377Z",
          "iopub.status.idle": "2023-04-27T20:22:50.155570Z",
          "shell.execute_reply.started": "2023-04-27T20:22:50.144335Z",
          "shell.execute_reply": "2023-04-27T20:22:50.154247Z"
        },
        "trusted": true,
        "id": "OPIuLZnuNfAG"
      },
      "execution_count": null,
      "outputs": []
    },
    {
      "cell_type": "code",
      "source": [
        "df_fake.shape, df_true.shape"
      ],
      "metadata": {
        "execution": {
          "iopub.status.busy": "2023-04-27T20:22:50.157882Z",
          "iopub.execute_input": "2023-04-27T20:22:50.158577Z",
          "iopub.status.idle": "2023-04-27T20:22:50.173043Z",
          "shell.execute_reply.started": "2023-04-27T20:22:50.158521Z",
          "shell.execute_reply": "2023-04-27T20:22:50.171751Z"
        },
        "trusted": true,
        "id": "lVpO42jWNfAG"
      },
      "execution_count": null,
      "outputs": []
    },
    {
      "cell_type": "code",
      "source": [
        "df_fake_manual_testing = df_fake.tail(10)\n",
        "for i in range(23480,23470,-1):\n",
        "    df_fake.drop([i], axis = 0, inplace = True)\n",
        "df_true_manual_testing = df_true.tail(10)\n",
        "for i in range(21416,21406,-1):\n",
        "    df_true.drop([i], axis = 0, inplace = True)"
      ],
      "metadata": {
        "execution": {
          "iopub.status.busy": "2023-04-27T20:22:50.174764Z",
          "iopub.execute_input": "2023-04-27T20:22:50.176037Z",
          "iopub.status.idle": "2023-04-27T20:22:50.243835Z",
          "shell.execute_reply.started": "2023-04-27T20:22:50.175968Z",
          "shell.execute_reply": "2023-04-27T20:22:50.242474Z"
        },
        "trusted": true,
        "id": "LjFseQCWNfAH"
      },
      "execution_count": null,
      "outputs": []
    },
    {
      "cell_type": "code",
      "source": [
        "df_fake.shape, df_true.shape"
      ],
      "metadata": {
        "execution": {
          "iopub.status.busy": "2023-04-27T20:22:50.245431Z",
          "iopub.execute_input": "2023-04-27T20:22:50.245802Z",
          "iopub.status.idle": "2023-04-27T20:22:50.254933Z",
          "shell.execute_reply.started": "2023-04-27T20:22:50.245757Z",
          "shell.execute_reply": "2023-04-27T20:22:50.253608Z"
        },
        "trusted": true,
        "id": "hJrqtWoINfAH"
      },
      "execution_count": null,
      "outputs": []
    },
    {
      "cell_type": "markdown",
      "source": [
        "**Merging the manual testing dataframe in single dataset and save it in a csv file**"
      ],
      "metadata": {
        "id": "yh7JILieNfAI"
      }
    },
    {
      "cell_type": "code",
      "source": [
        "df_fake_manual_testing[\"class\"] = 0\n",
        "df_true_manual_testing[\"class\"] = 1"
      ],
      "metadata": {
        "execution": {
          "iopub.status.busy": "2023-04-27T20:22:50.256877Z",
          "iopub.execute_input": "2023-04-27T20:22:50.257381Z",
          "iopub.status.idle": "2023-04-27T20:22:50.267561Z",
          "shell.execute_reply.started": "2023-04-27T20:22:50.257328Z",
          "shell.execute_reply": "2023-04-27T20:22:50.266123Z"
        },
        "trusted": true,
        "id": "kTPmuoXBNfAI"
      },
      "execution_count": null,
      "outputs": []
    },
    {
      "cell_type": "code",
      "source": [
        "df_fake_manual_testing.head(10)"
      ],
      "metadata": {
        "execution": {
          "iopub.status.busy": "2023-04-27T20:22:50.269402Z",
          "iopub.execute_input": "2023-04-27T20:22:50.269741Z",
          "iopub.status.idle": "2023-04-27T20:22:50.288896Z",
          "shell.execute_reply.started": "2023-04-27T20:22:50.269708Z",
          "shell.execute_reply": "2023-04-27T20:22:50.287388Z"
        },
        "trusted": true,
        "id": "pmzW0s7CNfAJ"
      },
      "execution_count": null,
      "outputs": []
    },
    {
      "cell_type": "code",
      "source": [
        "df_true_manual_testing.head(10)"
      ],
      "metadata": {
        "execution": {
          "iopub.status.busy": "2023-04-27T20:22:50.290960Z",
          "iopub.execute_input": "2023-04-27T20:22:50.291733Z",
          "iopub.status.idle": "2023-04-27T20:22:50.306308Z",
          "shell.execute_reply.started": "2023-04-27T20:22:50.291691Z",
          "shell.execute_reply": "2023-04-27T20:22:50.304972Z"
        },
        "trusted": true,
        "id": "P5NnwJ-cNfAJ"
      },
      "execution_count": null,
      "outputs": []
    },
    {
      "cell_type": "code",
      "source": [
        "df_manual_testing = pd.concat([df_fake_manual_testing,df_true_manual_testing], axis = 0)\n",
        "df_manual_testing.to_csv(\"manual_testing.csv\")"
      ],
      "metadata": {
        "execution": {
          "iopub.status.busy": "2023-04-27T20:22:50.314744Z",
          "iopub.execute_input": "2023-04-27T20:22:50.315176Z",
          "iopub.status.idle": "2023-04-27T20:22:50.326769Z",
          "shell.execute_reply.started": "2023-04-27T20:22:50.315139Z",
          "shell.execute_reply": "2023-04-27T20:22:50.325383Z"
        },
        "trusted": true,
        "id": "qVkpzeRUNfAK"
      },
      "execution_count": null,
      "outputs": []
    },
    {
      "cell_type": "markdown",
      "source": [
        "**Merging the main fake and true dataframe**"
      ],
      "metadata": {
        "id": "QLP2N_V4NfAK"
      }
    },
    {
      "cell_type": "code",
      "source": [
        "df_merge = pd.concat([df_fake, df_true], axis =0 )\n",
        "df_merge.head(10)"
      ],
      "metadata": {
        "execution": {
          "iopub.status.busy": "2023-04-27T20:22:50.327795Z",
          "iopub.execute_input": "2023-04-27T20:22:50.328839Z",
          "iopub.status.idle": "2023-04-27T20:22:50.359464Z",
          "shell.execute_reply.started": "2023-04-27T20:22:50.328797Z",
          "shell.execute_reply": "2023-04-27T20:22:50.357960Z"
        },
        "trusted": true,
        "id": "Lduv-gYNNfAL"
      },
      "execution_count": null,
      "outputs": []
    },
    {
      "cell_type": "code",
      "source": [
        "df_merge.columns"
      ],
      "metadata": {
        "execution": {
          "iopub.status.busy": "2023-04-27T20:22:50.361698Z",
          "iopub.execute_input": "2023-04-27T20:22:50.362112Z",
          "iopub.status.idle": "2023-04-27T20:22:50.370779Z",
          "shell.execute_reply.started": "2023-04-27T20:22:50.362073Z",
          "shell.execute_reply": "2023-04-27T20:22:50.369347Z"
        },
        "trusted": true,
        "id": "ZVP7bbi2NfAN"
      },
      "execution_count": null,
      "outputs": []
    },
    {
      "cell_type": "code",
      "source": [
        "df = df_merge.drop([\"title\", \"subject\",\"date\"], axis = 1)"
      ],
      "metadata": {
        "execution": {
          "iopub.status.busy": "2023-04-27T20:22:50.372363Z",
          "iopub.execute_input": "2023-04-27T20:22:50.372808Z",
          "iopub.status.idle": "2023-04-27T20:22:50.385293Z",
          "shell.execute_reply.started": "2023-04-27T20:22:50.372767Z",
          "shell.execute_reply": "2023-04-27T20:22:50.383794Z"
        },
        "trusted": true,
        "id": "8gANwqFpNfAO"
      },
      "execution_count": null,
      "outputs": []
    },
    {
      "cell_type": "code",
      "source": [
        "df.isnull().sum()"
      ],
      "metadata": {
        "execution": {
          "iopub.status.busy": "2023-04-27T20:22:50.387773Z",
          "iopub.execute_input": "2023-04-27T20:22:50.388377Z",
          "iopub.status.idle": "2023-04-27T20:22:50.410470Z",
          "shell.execute_reply.started": "2023-04-27T20:22:50.388325Z",
          "shell.execute_reply": "2023-04-27T20:22:50.409083Z"
        },
        "trusted": true,
        "id": "EA-bYt3ONfAO"
      },
      "execution_count": null,
      "outputs": []
    },
    {
      "cell_type": "markdown",
      "source": [
        "**Randomly shuffling the dataframe**"
      ],
      "metadata": {
        "id": "lO6ZZU6xNfAP"
      }
    },
    {
      "cell_type": "code",
      "source": [
        "df = df.sample(frac = 1)"
      ],
      "metadata": {
        "execution": {
          "iopub.status.busy": "2023-04-27T20:22:50.412083Z",
          "iopub.execute_input": "2023-04-27T20:22:50.412430Z",
          "iopub.status.idle": "2023-04-27T20:22:50.426485Z",
          "shell.execute_reply.started": "2023-04-27T20:22:50.412397Z",
          "shell.execute_reply": "2023-04-27T20:22:50.425171Z"
        },
        "trusted": true,
        "id": "Qq2lBvkVNfAP"
      },
      "execution_count": null,
      "outputs": []
    },
    {
      "cell_type": "code",
      "source": [
        "df.head()"
      ],
      "metadata": {
        "execution": {
          "iopub.status.busy": "2023-04-27T20:22:50.428426Z",
          "iopub.execute_input": "2023-04-27T20:22:50.428961Z",
          "iopub.status.idle": "2023-04-27T20:22:50.442657Z",
          "shell.execute_reply.started": "2023-04-27T20:22:50.428908Z",
          "shell.execute_reply": "2023-04-27T20:22:50.441162Z"
        },
        "trusted": true,
        "id": "BUEnJkgBNfAQ"
      },
      "execution_count": null,
      "outputs": []
    },
    {
      "cell_type": "code",
      "source": [
        "df.reset_index(inplace = True)\n",
        "df.drop([\"index\"], axis = 1, inplace = True)"
      ],
      "metadata": {
        "execution": {
          "iopub.status.busy": "2023-04-27T20:22:50.444532Z",
          "iopub.execute_input": "2023-04-27T20:22:50.444894Z",
          "iopub.status.idle": "2023-04-27T20:22:50.456204Z",
          "shell.execute_reply.started": "2023-04-27T20:22:50.444859Z",
          "shell.execute_reply": "2023-04-27T20:22:50.454540Z"
        },
        "trusted": true,
        "id": "dKihXBwMNfAQ"
      },
      "execution_count": null,
      "outputs": []
    },
    {
      "cell_type": "code",
      "source": [
        "df.columns"
      ],
      "metadata": {
        "execution": {
          "iopub.status.busy": "2023-04-27T20:22:50.458100Z",
          "iopub.execute_input": "2023-04-27T20:22:50.458486Z",
          "iopub.status.idle": "2023-04-27T20:22:50.466908Z",
          "shell.execute_reply.started": "2023-04-27T20:22:50.458440Z",
          "shell.execute_reply": "2023-04-27T20:22:50.465399Z"
        },
        "trusted": true,
        "id": "qBzyoms8NfAQ"
      },
      "execution_count": null,
      "outputs": []
    },
    {
      "cell_type": "code",
      "source": [
        "df.head()"
      ],
      "metadata": {
        "execution": {
          "iopub.status.busy": "2023-04-27T20:22:50.468551Z",
          "iopub.execute_input": "2023-04-27T20:22:50.469641Z",
          "iopub.status.idle": "2023-04-27T20:22:50.485554Z",
          "shell.execute_reply.started": "2023-04-27T20:22:50.469588Z",
          "shell.execute_reply": "2023-04-27T20:22:50.484100Z"
        },
        "trusted": true,
        "id": "LVsLgCXHNfAR"
      },
      "execution_count": null,
      "outputs": []
    },
    {
      "cell_type": "markdown",
      "source": [
        "**Creating a function to convert the text in lowercase, remove the extra space, special chr., ulr and links.**"
      ],
      "metadata": {
        "id": "SmcfXQXyNfAR"
      }
    },
    {
      "cell_type": "code",
      "source": [
        "def wordopt(text):\n",
        "    text = text.lower()\n",
        "    text = re.sub('\\[.*?\\]', '', text)\n",
        "    text = re.sub(\"\\\\W\",\" \",text)\n",
        "    text = re.sub('https?://\\S+|www\\.\\S+', '', text)\n",
        "    text = re.sub('<.*?>+', '', text)\n",
        "    text = re.sub('[%s]' % re.escape(string.punctuation), '', text)\n",
        "    text = re.sub('\\n', '', text)\n",
        "    text = re.sub('\\w*\\d\\w*', '', text)\n",
        "    return text"
      ],
      "metadata": {
        "execution": {
          "iopub.status.busy": "2023-04-27T20:22:50.488112Z",
          "iopub.execute_input": "2023-04-27T20:22:50.489405Z",
          "iopub.status.idle": "2023-04-27T20:22:50.498642Z",
          "shell.execute_reply.started": "2023-04-27T20:22:50.489355Z",
          "shell.execute_reply": "2023-04-27T20:22:50.497571Z"
        },
        "trusted": true,
        "id": "iBc5_cJENfAR"
      },
      "execution_count": null,
      "outputs": []
    },
    {
      "cell_type": "code",
      "source": [
        "df[\"text\"] = df[\"text\"].apply(wordopt)"
      ],
      "metadata": {
        "execution": {
          "iopub.status.busy": "2023-04-27T20:22:50.500666Z",
          "iopub.execute_input": "2023-04-27T20:22:50.501583Z",
          "iopub.status.idle": "2023-04-27T20:23:10.696372Z",
          "shell.execute_reply.started": "2023-04-27T20:22:50.501534Z",
          "shell.execute_reply": "2023-04-27T20:23:10.695017Z"
        },
        "trusted": true,
        "id": "g54LDi2-NfAS"
      },
      "execution_count": null,
      "outputs": []
    },
    {
      "cell_type": "markdown",
      "source": [
        "**Defining dependent and independent variable as x and y**"
      ],
      "metadata": {
        "id": "Sfe-HVGoNfAS"
      }
    },
    {
      "cell_type": "code",
      "source": [
        "x = df[\"text\"]\n",
        "y = df[\"class\"]"
      ],
      "metadata": {
        "execution": {
          "iopub.status.busy": "2023-04-27T20:23:10.697826Z",
          "iopub.execute_input": "2023-04-27T20:23:10.698179Z",
          "iopub.status.idle": "2023-04-27T20:23:10.704152Z",
          "shell.execute_reply.started": "2023-04-27T20:23:10.698145Z",
          "shell.execute_reply": "2023-04-27T20:23:10.702838Z"
        },
        "trusted": true,
        "id": "83x-v5gFNfAS"
      },
      "execution_count": null,
      "outputs": []
    },
    {
      "cell_type": "markdown",
      "source": [
        "**Splitting the dataset into training set and testing set.**"
      ],
      "metadata": {
        "id": "Zx0lmhqvNfAS"
      }
    },
    {
      "cell_type": "code",
      "source": [
        "x_train, x_test, y_train, y_test = train_test_split(x, y, test_size=0.25)"
      ],
      "metadata": {
        "execution": {
          "iopub.status.busy": "2023-04-27T20:23:10.706477Z",
          "iopub.execute_input": "2023-04-27T20:23:10.707673Z",
          "iopub.status.idle": "2023-04-27T20:23:10.732755Z",
          "shell.execute_reply.started": "2023-04-27T20:23:10.707615Z",
          "shell.execute_reply": "2023-04-27T20:23:10.731418Z"
        },
        "trusted": true,
        "id": "zDgd-UxdNfAT"
      },
      "execution_count": null,
      "outputs": []
    },
    {
      "cell_type": "markdown",
      "source": [
        "**1. Logistic Regression**"
      ],
      "metadata": {
        "id": "HAuulo3FNfAT"
      }
    },
    {
      "cell_type": "code",
      "source": [
        "from sklearn.feature_extraction.text import TfidfVectorizer\n",
        "vectorization = TfidfVectorizer()\n",
        "xv_train = vectorization.fit_transform(x_train)\n",
        "xv_test = vectorization.transform(x_test)"
      ],
      "metadata": {
        "execution": {
          "iopub.status.busy": "2023-04-27T20:23:10.734570Z",
          "iopub.execute_input": "2023-04-27T20:23:10.735081Z",
          "iopub.status.idle": "2023-04-27T20:23:25.669195Z",
          "shell.execute_reply.started": "2023-04-27T20:23:10.735026Z",
          "shell.execute_reply": "2023-04-27T20:23:25.667785Z"
        },
        "trusted": true,
        "id": "uVrYf1OgNfAT"
      },
      "execution_count": null,
      "outputs": []
    },
    {
      "cell_type": "code",
      "source": [
        "from sklearn.linear_model import LogisticRegression\n",
        "LR = LogisticRegression()\n",
        "LR.fit(xv_train,y_train)"
      ],
      "metadata": {
        "execution": {
          "iopub.status.busy": "2023-04-27T20:23:25.670680Z",
          "iopub.execute_input": "2023-04-27T20:23:25.671082Z",
          "iopub.status.idle": "2023-04-27T20:23:28.890729Z",
          "shell.execute_reply.started": "2023-04-27T20:23:25.671039Z",
          "shell.execute_reply": "2023-04-27T20:23:28.888940Z"
        },
        "trusted": true,
        "id": "OelPEpFDNfAT"
      },
      "execution_count": null,
      "outputs": []
    },
    {
      "cell_type": "code",
      "source": [
        "pred_lr=LR.predict(xv_test)"
      ],
      "metadata": {
        "execution": {
          "iopub.status.busy": "2023-04-27T20:23:28.893100Z",
          "iopub.execute_input": "2023-04-27T20:23:28.893896Z",
          "iopub.status.idle": "2023-04-27T20:23:28.920936Z",
          "shell.execute_reply.started": "2023-04-27T20:23:28.893825Z",
          "shell.execute_reply": "2023-04-27T20:23:28.919127Z"
        },
        "trusted": true,
        "id": "Ol36ESkpNfAU"
      },
      "execution_count": null,
      "outputs": []
    },
    {
      "cell_type": "code",
      "source": [
        "LR.score(xv_test, y_test)"
      ],
      "metadata": {
        "execution": {
          "iopub.status.busy": "2023-04-27T20:23:28.923165Z",
          "iopub.execute_input": "2023-04-27T20:23:28.924137Z",
          "iopub.status.idle": "2023-04-27T20:23:28.953659Z",
          "shell.execute_reply.started": "2023-04-27T20:23:28.924077Z",
          "shell.execute_reply": "2023-04-27T20:23:28.952358Z"
        },
        "trusted": true,
        "id": "rIskbU5LNfAU"
      },
      "execution_count": null,
      "outputs": []
    },
    {
      "cell_type": "code",
      "source": [
        "print(classification_report(y_test, pred_lr))"
      ],
      "metadata": {
        "execution": {
          "iopub.status.busy": "2023-04-27T20:23:28.955875Z",
          "iopub.execute_input": "2023-04-27T20:23:28.956830Z",
          "iopub.status.idle": "2023-04-27T20:23:28.994116Z",
          "shell.execute_reply.started": "2023-04-27T20:23:28.956780Z",
          "shell.execute_reply": "2023-04-27T20:23:28.992759Z"
        },
        "trusted": true,
        "id": "Bl3_31epNfAV"
      },
      "execution_count": null,
      "outputs": []
    },
    {
      "cell_type": "markdown",
      "source": [
        "**2. Decision Tree Classification**"
      ],
      "metadata": {
        "id": "_nwP7_uHNfAV"
      }
    },
    {
      "cell_type": "code",
      "source": [
        "from sklearn.tree import DecisionTreeClassifier\n",
        "DT = DecisionTreeClassifier()\n",
        "DT.fit(xv_train, y_train)"
      ],
      "metadata": {
        "execution": {
          "iopub.status.busy": "2023-04-27T20:23:28.996102Z",
          "iopub.execute_input": "2023-04-27T20:23:28.997121Z",
          "iopub.status.idle": "2023-04-27T20:24:05.678435Z",
          "shell.execute_reply.started": "2023-04-27T20:23:28.996984Z",
          "shell.execute_reply": "2023-04-27T20:24:05.677070Z"
        },
        "trusted": true,
        "id": "OKF_x6NFNfAV"
      },
      "execution_count": null,
      "outputs": []
    },
    {
      "cell_type": "code",
      "source": [
        "pred_dt = DT.predict(xv_test)\n",
        "DT.score(xv_test, y_test)"
      ],
      "metadata": {
        "execution": {
          "iopub.status.busy": "2023-04-27T20:24:05.680461Z",
          "iopub.execute_input": "2023-04-27T20:24:05.681306Z",
          "iopub.status.idle": "2023-04-27T20:24:05.786172Z",
          "shell.execute_reply.started": "2023-04-27T20:24:05.681252Z",
          "shell.execute_reply": "2023-04-27T20:24:05.785047Z"
        },
        "trusted": true,
        "id": "0CXzpAXQNfAW"
      },
      "execution_count": null,
      "outputs": []
    },
    {
      "cell_type": "code",
      "source": [
        "print(classification_report(y_test, pred_dt))"
      ],
      "metadata": {
        "execution": {
          "iopub.status.busy": "2023-04-27T20:24:05.787898Z",
          "iopub.execute_input": "2023-04-27T20:24:05.788621Z",
          "iopub.status.idle": "2023-04-27T20:24:05.816610Z",
          "shell.execute_reply.started": "2023-04-27T20:24:05.788582Z",
          "shell.execute_reply": "2023-04-27T20:24:05.815318Z"
        },
        "trusted": true,
        "id": "vdNyQbm7NfAW"
      },
      "execution_count": null,
      "outputs": []
    },
    {
      "cell_type": "markdown",
      "source": [],
      "metadata": {
        "id": "5tIJALA7NfAW"
      }
    },
    {
      "cell_type": "markdown",
      "source": [
        "**3. Gradient Boosting Classifier**"
      ],
      "metadata": {
        "id": "DN9qfUEXNfAW"
      }
    },
    {
      "cell_type": "code",
      "source": [
        "from sklearn.ensemble import GradientBoostingClassifier\n",
        "GBC = GradientBoostingClassifier(random_state=0)\n",
        "GBC.fit(xv_train, y_train)"
      ],
      "metadata": {
        "execution": {
          "iopub.status.busy": "2023-04-27T20:24:05.818265Z",
          "iopub.execute_input": "2023-04-27T20:24:05.818632Z",
          "iopub.status.idle": "2023-04-27T20:29:17.698096Z",
          "shell.execute_reply.started": "2023-04-27T20:24:05.818597Z",
          "shell.execute_reply": "2023-04-27T20:29:17.697050Z"
        },
        "trusted": true,
        "id": "DKdgjlKONfAX"
      },
      "execution_count": null,
      "outputs": []
    },
    {
      "cell_type": "code",
      "source": [
        "pred_gbc = GBC.predict(xv_test)\n",
        "GBC.score(xv_test, y_test)"
      ],
      "metadata": {
        "execution": {
          "iopub.status.busy": "2023-04-27T20:29:17.699319Z",
          "iopub.execute_input": "2023-04-27T20:29:17.700053Z",
          "iopub.status.idle": "2023-04-27T20:29:17.780824Z",
          "shell.execute_reply.started": "2023-04-27T20:29:17.699981Z",
          "shell.execute_reply": "2023-04-27T20:29:17.779298Z"
        },
        "trusted": true,
        "id": "lmO8EgNANfAX"
      },
      "execution_count": null,
      "outputs": []
    },
    {
      "cell_type": "code",
      "source": [
        "print(classification_report(y_test, pred_gbc))"
      ],
      "metadata": {
        "execution": {
          "iopub.status.busy": "2023-04-27T20:29:17.782528Z",
          "iopub.execute_input": "2023-04-27T20:29:17.783619Z",
          "iopub.status.idle": "2023-04-27T20:29:17.821129Z",
          "shell.execute_reply.started": "2023-04-27T20:29:17.783558Z",
          "shell.execute_reply": "2023-04-27T20:29:17.819117Z"
        },
        "trusted": true,
        "id": "ZAgAQAxVNfAX"
      },
      "execution_count": null,
      "outputs": []
    },
    {
      "cell_type": "markdown",
      "source": [
        "**4. Random Forest Classifier**"
      ],
      "metadata": {
        "id": "GxpgTgTeNfAY"
      }
    },
    {
      "cell_type": "code",
      "source": [
        "from sklearn.ensemble import RandomForestClassifier\n",
        "RFC = RandomForestClassifier(random_state=0)\n",
        "RFC.fit(xv_train, y_train)"
      ],
      "metadata": {
        "execution": {
          "iopub.status.busy": "2023-04-27T20:29:17.822852Z",
          "iopub.execute_input": "2023-04-27T20:29:17.823796Z",
          "iopub.status.idle": "2023-04-27T20:30:36.138647Z",
          "shell.execute_reply.started": "2023-04-27T20:29:17.823749Z",
          "shell.execute_reply": "2023-04-27T20:30:36.137258Z"
        },
        "trusted": true,
        "id": "VKLy0_-ENfAY"
      },
      "execution_count": null,
      "outputs": []
    },
    {
      "cell_type": "code",
      "source": [
        "pred_rfc = RFC.predict(xv_test)"
      ],
      "metadata": {
        "execution": {
          "iopub.status.busy": "2023-04-27T20:30:36.140523Z",
          "iopub.execute_input": "2023-04-27T20:30:36.141060Z",
          "iopub.status.idle": "2023-04-27T20:30:37.515151Z",
          "shell.execute_reply.started": "2023-04-27T20:30:36.140981Z",
          "shell.execute_reply": "2023-04-27T20:30:37.513966Z"
        },
        "trusted": true,
        "id": "bJLUL-oWNfAY"
      },
      "execution_count": null,
      "outputs": []
    },
    {
      "cell_type": "code",
      "source": [
        "RFC.score(xv_test, y_test)"
      ],
      "metadata": {
        "execution": {
          "iopub.status.busy": "2023-04-27T20:30:37.521989Z",
          "iopub.execute_input": "2023-04-27T20:30:37.522393Z",
          "iopub.status.idle": "2023-04-27T20:30:38.894311Z",
          "shell.execute_reply.started": "2023-04-27T20:30:37.522360Z",
          "shell.execute_reply": "2023-04-27T20:30:38.893354Z"
        },
        "trusted": true,
        "id": "LduKPvWnNfAZ"
      },
      "execution_count": null,
      "outputs": []
    },
    {
      "cell_type": "code",
      "source": [
        "print(classification_report(y_test, pred_rfc))"
      ],
      "metadata": {
        "execution": {
          "iopub.status.busy": "2023-04-27T20:30:38.895667Z",
          "iopub.execute_input": "2023-04-27T20:30:38.896044Z",
          "iopub.status.idle": "2023-04-27T20:30:38.924425Z",
          "shell.execute_reply.started": "2023-04-27T20:30:38.896007Z",
          "shell.execute_reply": "2023-04-27T20:30:38.922968Z"
        },
        "trusted": true,
        "id": "O8qyRRbmNfAZ"
      },
      "execution_count": null,
      "outputs": []
    },
    {
      "cell_type": "markdown",
      "source": [
        "**Model Testing With Manual Entry**"
      ],
      "metadata": {
        "id": "uxdujbxINfAZ"
      }
    },
    {
      "cell_type": "code",
      "source": [
        "def output_lable(n):\n",
        "    if n == 0:\n",
        "        return \"Fake News\"\n",
        "    elif n == 1:\n",
        "        return \"Not A Fake News\"\n",
        "\n",
        "def manual_testing(news):\n",
        "    testing_news = {\"text\":[news]}\n",
        "    new_def_test = pd.DataFrame(testing_news)\n",
        "    new_def_test[\"text\"] = new_def_test[\"text\"].apply(wordopt)\n",
        "    new_x_test = new_def_test[\"text\"]\n",
        "    new_xv_test = vectorization.transform(new_x_test)\n",
        "    pred_LR = LR.predict(new_xv_test)\n",
        "    pred_DT = DT.predict(new_xv_test)\n",
        "    pred_GBC = GBC.predict(new_xv_test)\n",
        "    pred_RFC = RFC.predict(new_xv_test)\n",
        "\n",
        "    return print(\"\\n\\nLR Prediction: {} \\nDT Prediction: {} \\nGBC Prediction: {} \\nRFC Prediction: {}\".format(output_lable(pred_LR[0]),\n",
        "                                                                                                              output_lable(pred_DT[0]),\n",
        "                                                                                                              output_lable(pred_GBC[0]),\n",
        "                                                                                                              output_lable(pred_RFC[0])))"
      ],
      "metadata": {
        "execution": {
          "iopub.status.busy": "2023-04-27T20:30:38.926213Z",
          "iopub.execute_input": "2023-04-27T20:30:38.927138Z",
          "iopub.status.idle": "2023-04-27T20:30:38.937443Z",
          "shell.execute_reply.started": "2023-04-27T20:30:38.927070Z",
          "shell.execute_reply": "2023-04-27T20:30:38.935759Z"
        },
        "trusted": true,
        "id": "9sj4TU4lNfAZ"
      },
      "execution_count": null,
      "outputs": []
    },
    {
      "cell_type": "code",
      "source": [
        "news = str(input())\n",
        "manual_testing(news)"
      ],
      "metadata": {
        "execution": {
          "iopub.status.busy": "2023-04-27T20:30:38.939135Z",
          "iopub.execute_input": "2023-04-27T20:30:38.939523Z",
          "iopub.status.idle": "2023-04-27T20:31:24.825610Z",
          "shell.execute_reply.started": "2023-04-27T20:30:38.939488Z",
          "shell.execute_reply": "2023-04-27T20:31:24.824165Z"
        },
        "trusted": true,
        "id": "EKr5lJ4GNfAa"
      },
      "execution_count": null,
      "outputs": []
    },
    {
      "cell_type": "code",
      "source": [
        "news = str(input())\n",
        "manual_testing(news)"
      ],
      "metadata": {
        "execution": {
          "iopub.status.busy": "2023-04-27T20:38:33.959250Z",
          "iopub.execute_input": "2023-04-27T20:38:33.959678Z",
          "iopub.status.idle": "2023-04-27T20:38:40.133282Z",
          "shell.execute_reply.started": "2023-04-27T20:38:33.959635Z",
          "shell.execute_reply": "2023-04-27T20:38:40.132074Z"
        },
        "trusted": true,
        "id": "IV7B2Nn7NfAb"
      },
      "execution_count": null,
      "outputs": []
    }
  ]
}